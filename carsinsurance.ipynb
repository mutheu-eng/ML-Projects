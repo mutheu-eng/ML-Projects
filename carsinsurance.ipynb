{
 "cells": [
  {
   "cell_type": "code",
   "execution_count": 2,
   "metadata": {},
   "outputs": [],
   "source": [
    "import pandas as pd\n",
    "import numpy as np\n",
    "import seaborn as sns\n",
    "import matplotlib.pyplot as plt \n",
    "import warnings\n",
    "warnings.filterwarnings('ignore')"
   ]
  },
  {
   "cell_type": "code",
   "execution_count": 3,
   "metadata": {},
   "outputs": [],
   "source": [
    "path = 'C:/Users/user/Downloads/CarInsurance'\n",
    "data = pd.read_csv(path + '/CleanedDataCarInsurance.csv')"
   ]
  },
  {
   "cell_type": "markdown",
   "metadata": {},
   "source": [
    "DATA CLEANING"
   ]
  },
  {
   "cell_type": "code",
   "execution_count": 4,
   "metadata": {},
   "outputs": [
    {
     "data": {
      "text/plain": [
       "ID                  0\n",
       "marital_status      0\n",
       "car_use             0\n",
       "gender              0\n",
       "kids_driving        0\n",
       "parent              0\n",
       "education           0\n",
       "car_make            0\n",
       "car_model           0\n",
       "car_color           0\n",
       "car_year            0\n",
       "claim_freq          0\n",
       "coverage_zone       0\n",
       "claim_amt           0\n",
       "household_income    0\n",
       "birth_year          0\n",
       "age                 0\n",
       "dtype: int64"
      ]
     },
     "execution_count": 4,
     "metadata": {},
     "output_type": "execute_result"
    }
   ],
   "source": [
    "data.isnull().sum()"
   ]
  },
  {
   "cell_type": "code",
   "execution_count": 5,
   "metadata": {},
   "outputs": [
    {
     "data": {
      "text/html": [
       "<div>\n",
       "<style scoped>\n",
       "    .dataframe tbody tr th:only-of-type {\n",
       "        vertical-align: middle;\n",
       "    }\n",
       "\n",
       "    .dataframe tbody tr th {\n",
       "        vertical-align: top;\n",
       "    }\n",
       "\n",
       "    .dataframe thead th {\n",
       "        text-align: right;\n",
       "    }\n",
       "</style>\n",
       "<table border=\"1\" class=\"dataframe\">\n",
       "  <thead>\n",
       "    <tr style=\"text-align: right;\">\n",
       "      <th></th>\n",
       "      <th>ID</th>\n",
       "      <th>marital_status</th>\n",
       "      <th>car_use</th>\n",
       "      <th>gender</th>\n",
       "      <th>kids_driving</th>\n",
       "      <th>parent</th>\n",
       "      <th>education</th>\n",
       "      <th>car_make</th>\n",
       "      <th>car_model</th>\n",
       "      <th>car_color</th>\n",
       "      <th>car_year</th>\n",
       "      <th>claim_freq</th>\n",
       "      <th>coverage_zone</th>\n",
       "      <th>claim_amt</th>\n",
       "      <th>household_income</th>\n",
       "      <th>birth_year</th>\n",
       "      <th>age</th>\n",
       "    </tr>\n",
       "  </thead>\n",
       "  <tbody>\n",
       "    <tr>\n",
       "      <th>0</th>\n",
       "      <td>62-2999778</td>\n",
       "      <td>Single</td>\n",
       "      <td>Private</td>\n",
       "      <td>Male</td>\n",
       "      <td>2</td>\n",
       "      <td>Yes</td>\n",
       "      <td>High School</td>\n",
       "      <td>Acura</td>\n",
       "      <td>TSX</td>\n",
       "      <td>Green</td>\n",
       "      <td>2010</td>\n",
       "      <td>1</td>\n",
       "      <td>Highly Urban</td>\n",
       "      <td>73759.88</td>\n",
       "      <td>220436.66</td>\n",
       "      <td>1962</td>\n",
       "      <td>61</td>\n",
       "    </tr>\n",
       "    <tr>\n",
       "      <th>1</th>\n",
       "      <td>70-2426103</td>\n",
       "      <td>Married</td>\n",
       "      <td>Private</td>\n",
       "      <td>Female</td>\n",
       "      <td>0</td>\n",
       "      <td>No</td>\n",
       "      <td>Bachelors</td>\n",
       "      <td>Corbin</td>\n",
       "      <td>Sparrow</td>\n",
       "      <td>Turquoise</td>\n",
       "      <td>2004</td>\n",
       "      <td>1</td>\n",
       "      <td>Urban</td>\n",
       "      <td>78975.41</td>\n",
       "      <td>66491.43</td>\n",
       "      <td>1988</td>\n",
       "      <td>35</td>\n",
       "    </tr>\n",
       "    <tr>\n",
       "      <th>2</th>\n",
       "      <td>08-3808219</td>\n",
       "      <td>Divorced</td>\n",
       "      <td>Private</td>\n",
       "      <td>Male</td>\n",
       "      <td>0</td>\n",
       "      <td>No</td>\n",
       "      <td>Bachelors</td>\n",
       "      <td>Nissan</td>\n",
       "      <td>Pathfinder</td>\n",
       "      <td>Orange</td>\n",
       "      <td>1993</td>\n",
       "      <td>0</td>\n",
       "      <td>Rural</td>\n",
       "      <td>30904.01</td>\n",
       "      <td>56122.70</td>\n",
       "      <td>1999</td>\n",
       "      <td>24</td>\n",
       "    </tr>\n",
       "  </tbody>\n",
       "</table>\n",
       "</div>"
      ],
      "text/plain": [
       "           ID marital_status  car_use  gender  kids_driving parent  \\\n",
       "0  62-2999778         Single  Private    Male             2    Yes   \n",
       "1  70-2426103        Married  Private  Female             0     No   \n",
       "2  08-3808219       Divorced  Private    Male             0     No   \n",
       "\n",
       "     education car_make   car_model  car_color  car_year  claim_freq  \\\n",
       "0  High School    Acura         TSX      Green      2010           1   \n",
       "1    Bachelors   Corbin     Sparrow  Turquoise      2004           1   \n",
       "2    Bachelors   Nissan  Pathfinder     Orange      1993           0   \n",
       "\n",
       "  coverage_zone  claim_amt  household_income  birth_year  age  \n",
       "0  Highly Urban   73759.88         220436.66        1962   61  \n",
       "1         Urban   78975.41          66491.43        1988   35  \n",
       "2         Rural   30904.01          56122.70        1999   24  "
      ]
     },
     "execution_count": 5,
     "metadata": {},
     "output_type": "execute_result"
    }
   ],
   "source": [
    "data.head(3)"
   ]
  },
  {
   "cell_type": "code",
   "execution_count": 6,
   "metadata": {},
   "outputs": [],
   "source": [
    "data['age'] = 2023 - data['birth_year']"
   ]
  },
  {
   "cell_type": "code",
   "execution_count": 7,
   "metadata": {},
   "outputs": [
    {
     "data": {
      "text/html": [
       "<div>\n",
       "<style scoped>\n",
       "    .dataframe tbody tr th:only-of-type {\n",
       "        vertical-align: middle;\n",
       "    }\n",
       "\n",
       "    .dataframe tbody tr th {\n",
       "        vertical-align: top;\n",
       "    }\n",
       "\n",
       "    .dataframe thead th {\n",
       "        text-align: right;\n",
       "    }\n",
       "</style>\n",
       "<table border=\"1\" class=\"dataframe\">\n",
       "  <thead>\n",
       "    <tr style=\"text-align: right;\">\n",
       "      <th></th>\n",
       "      <th>ID</th>\n",
       "      <th>marital_status</th>\n",
       "      <th>car_use</th>\n",
       "      <th>gender</th>\n",
       "      <th>kids_driving</th>\n",
       "      <th>parent</th>\n",
       "      <th>education</th>\n",
       "      <th>car_make</th>\n",
       "      <th>car_model</th>\n",
       "      <th>car_color</th>\n",
       "      <th>car_year</th>\n",
       "      <th>claim_freq</th>\n",
       "      <th>coverage_zone</th>\n",
       "      <th>claim_amt</th>\n",
       "      <th>household_income</th>\n",
       "      <th>birth_year</th>\n",
       "      <th>age</th>\n",
       "    </tr>\n",
       "  </thead>\n",
       "  <tbody>\n",
       "    <tr>\n",
       "      <th>0</th>\n",
       "      <td>62-2999778</td>\n",
       "      <td>Single</td>\n",
       "      <td>Private</td>\n",
       "      <td>Male</td>\n",
       "      <td>2</td>\n",
       "      <td>Yes</td>\n",
       "      <td>High School</td>\n",
       "      <td>Acura</td>\n",
       "      <td>TSX</td>\n",
       "      <td>Green</td>\n",
       "      <td>2010</td>\n",
       "      <td>1</td>\n",
       "      <td>Highly Urban</td>\n",
       "      <td>73759.88</td>\n",
       "      <td>220436.66</td>\n",
       "      <td>1962</td>\n",
       "      <td>61</td>\n",
       "    </tr>\n",
       "    <tr>\n",
       "      <th>1</th>\n",
       "      <td>70-2426103</td>\n",
       "      <td>Married</td>\n",
       "      <td>Private</td>\n",
       "      <td>Female</td>\n",
       "      <td>0</td>\n",
       "      <td>No</td>\n",
       "      <td>Bachelors</td>\n",
       "      <td>Corbin</td>\n",
       "      <td>Sparrow</td>\n",
       "      <td>Turquoise</td>\n",
       "      <td>2004</td>\n",
       "      <td>1</td>\n",
       "      <td>Urban</td>\n",
       "      <td>78975.41</td>\n",
       "      <td>66491.43</td>\n",
       "      <td>1988</td>\n",
       "      <td>35</td>\n",
       "    </tr>\n",
       "    <tr>\n",
       "      <th>2</th>\n",
       "      <td>08-3808219</td>\n",
       "      <td>Divorced</td>\n",
       "      <td>Private</td>\n",
       "      <td>Male</td>\n",
       "      <td>0</td>\n",
       "      <td>No</td>\n",
       "      <td>Bachelors</td>\n",
       "      <td>Nissan</td>\n",
       "      <td>Pathfinder</td>\n",
       "      <td>Orange</td>\n",
       "      <td>1993</td>\n",
       "      <td>0</td>\n",
       "      <td>Rural</td>\n",
       "      <td>30904.01</td>\n",
       "      <td>56122.70</td>\n",
       "      <td>1999</td>\n",
       "      <td>24</td>\n",
       "    </tr>\n",
       "  </tbody>\n",
       "</table>\n",
       "</div>"
      ],
      "text/plain": [
       "           ID marital_status  car_use  gender  kids_driving parent  \\\n",
       "0  62-2999778         Single  Private    Male             2    Yes   \n",
       "1  70-2426103        Married  Private  Female             0     No   \n",
       "2  08-3808219       Divorced  Private    Male             0     No   \n",
       "\n",
       "     education car_make   car_model  car_color  car_year  claim_freq  \\\n",
       "0  High School    Acura         TSX      Green      2010           1   \n",
       "1    Bachelors   Corbin     Sparrow  Turquoise      2004           1   \n",
       "2    Bachelors   Nissan  Pathfinder     Orange      1993           0   \n",
       "\n",
       "  coverage_zone  claim_amt  household_income  birth_year  age  \n",
       "0  Highly Urban   73759.88         220436.66        1962   61  \n",
       "1         Urban   78975.41          66491.43        1988   35  \n",
       "2         Rural   30904.01          56122.70        1999   24  "
      ]
     },
     "execution_count": 7,
     "metadata": {},
     "output_type": "execute_result"
    }
   ],
   "source": [
    "data.head(3)"
   ]
  },
  {
   "cell_type": "code",
   "execution_count": 8,
   "metadata": {},
   "outputs": [
    {
     "data": {
      "text/plain": [
       "<Axes: xlabel='claim_amt', ylabel='Density'>"
      ]
     },
     "execution_count": 8,
     "metadata": {},
     "output_type": "execute_result"
    },
    {
     "data": {
      "image/png": "[encoded data removed]",
      "text/plain": [
       "<Figure size 640x480 with 1 Axes>"
      ]
     },
     "metadata": {},
     "output_type": "display_data"
    }
   ],
   "source": [
    "#Let's check the distribution of the target variable.\n",
    "sns.distplot(data[\"claim_amt\"])"
   ]
  },
  {
   "cell_type": "code",
   "execution_count": 163,
   "metadata": {},
   "outputs": [
    {
     "ename": "TypeError",
     "evalue": "list indices must be integers or slices, not str",
     "output_type": "error",
     "traceback": [
      "\u001b[1;31m---------------------------------------------------------------------------\u001b[0m",
      "\u001b[1;31mTypeError\u001b[0m                                 Traceback (most recent call last)",
      "Cell \u001b[1;32mIn[163], line 1\u001b[0m\n\u001b[1;32m----> 1\u001b[0m skewness \u001b[39m=\u001b[39m data[\u001b[39m\"\u001b[39;49m\u001b[39mclaim_amt\u001b[39;49m\u001b[39m\"\u001b[39;49m]\u001b[39m.\u001b[39mskew()\n\u001b[0;32m      2\u001b[0m \u001b[39mprint\u001b[39m(\u001b[39mf\u001b[39m\u001b[39m\"\u001b[39m\u001b[39mThe skewness of Claim Amount is \u001b[39m\u001b[39m{\u001b[39;00mskewness\u001b[39m}\u001b[39;00m\u001b[39m\"\u001b[39m)\n",
      "\u001b[1;31mTypeError\u001b[0m: list indices must be integers or slices, not str"
     ]
    }
   ],
   "source": [
    "skewness = data[\"claim_amt\"].skew()\n",
    "print(f\"The skewness of Claim Amount is {skewness}\")"
   ]
  },
  {
   "cell_type": "code",
   "execution_count": 10,
   "metadata": {},
   "outputs": [
    {
     "name": "stdout",
     "output_type": "stream",
     "text": [
      "There are 7 numeric and 10 categorical columns in train data\n"
     ]
    }
   ],
   "source": [
    "numeric_data = data.select_dtypes(include=[np.number])\n",
    "cat_data = data.select_dtypes(exclude=[np.number])\n",
    "print (\"There are {} numeric and {} categorical columns in train data\".format(numeric_data.shape[1],cat_data.shape[1]))"
   ]
  },
  {
   "cell_type": "code",
   "execution_count": 12,
   "metadata": {},
   "outputs": [],
   "source": [
    "del cat_data['ID']"
   ]
  },
  {
   "cell_type": "code",
   "execution_count": 13,
   "metadata": {},
   "outputs": [
    {
     "data": {
      "text/plain": [
       "<Axes: >"
      ]
     },
     "execution_count": 13,
     "metadata": {},
     "output_type": "execute_result"
    },
    {
     "data": {
      "image/png": "[encoded data removed]",
      "text/plain": [
       "<Figure size 640x480 with 2 Axes>"
      ]
     },
     "metadata": {},
     "output_type": "display_data"
    }
   ],
   "source": [
    "#correlation plot\n",
    "corr = numeric_data.corr()\n",
    "\n",
    "sns.heatmap(corr)"
   ]
  },
  {
   "cell_type": "code",
   "execution_count": 15,
   "metadata": {},
   "outputs": [
    {
     "name": "stdout",
     "output_type": "stream",
     "text": [
      "claim_amt           1.000000\n",
      "kids_driving        0.015602\n",
      "birth_year          0.012264\n",
      "car_year            0.006349\n",
      "claim_freq          0.004396\n",
      "household_income   -0.011608\n",
      "age                -0.012264\n",
      "Name: claim_amt, dtype: float64\n"
     ]
    }
   ],
   "source": [
    "print(corr[\"claim_amt\"].sort_values(ascending = False))"
   ]
  },
  {
   "cell_type": "code",
   "execution_count": 21,
   "metadata": {},
   "outputs": [
    {
     "data": {
      "image/png": "[encoded data removed]",
      "text/plain": [
       "<Figure size 640x480 with 1 Axes>"
      ]
     },
     "metadata": {},
     "output_type": "display_data"
    }
   ],
   "source": [
    "from scipy import stats\n",
    "cat = [col for col in data.columns if data.dtypes[col] == 'object']\n",
    "\n",
    "\n",
    "anv = pd.DataFrame()\n",
    "anv['features'] = cat\n",
    "pvals = []\n",
    "\n",
    "cat_data = data.copy()\n",
    "cat_data['claim_amt'] = data['claim_amt'].values\n",
    "\n",
    "for c in cat:\n",
    "     samples = []\n",
    "     for cls in cat_data[c].unique():\n",
    "           s = cat_data[cat_data[c] == cls]['claim_amt'].values\n",
    "           samples.append(s)\n",
    "     pval = stats.f_oneway(*samples)[1]\n",
    "     pvals.append(pval)\n",
    "     \n",
    "anv['pval'] = pvals\n",
    "anv['disparity'] = np.log(1. / anv['pval'].values)\n",
    "\n",
    "anv = anv.sort_values(by='disparity',ascending=False)\n",
    "\n",
    "sns.barplot(data=anv, x = 'features', y='disparity') \n",
    "plt.xticks(rotation=90) \n",
    "plt.show() "
   ]
  },
  {
   "cell_type": "code",
   "execution_count": 102,
   "metadata": {},
   "outputs": [],
   "source": [
    "from sklearn.preprocessing import LabelEncoder,StandardScaler\n",
    "le = LabelEncoder()"
   ]
  },
  {
   "cell_type": "code",
   "execution_count": 103,
   "metadata": {},
   "outputs": [],
   "source": [
    "from sklearn.preprocessing import LabelEncoder\n",
    "\n",
    "def processing_data(data):\n",
    "\n",
    "    processed_data = data.copy()\n",
    "\n",
    "    dummy = ['car_make','car_use'] \n",
    "    \n",
    "    processed_data = pd.get_dummies(processed_data, columns = dummy)\n",
    "\n",
    "    categ=['gender']\n",
    "\n",
    "    if 'ID' in processed_data:\n",
    "        processed_data.drop(['ID'], axis=1,inplace=True)\n",
    "\n",
    "    le = LabelEncoder()    \n",
    "\n",
    "    for col in categ:\n",
    "        processed_data[col] = le.fit_transform(data[col]) \n",
    "    \n",
    "    return pd.DataFrame(processed_data, columns=processed_data.columns)"
   ]
  },
  {
   "cell_type": "code",
   "execution_count": 104,
   "metadata": {},
   "outputs": [],
   "source": [
    "processed_X = processing_data(X)"
   ]
  },
  {
   "cell_type": "code",
   "execution_count": 165,
   "metadata": {},
   "outputs": [
    {
     "data": {
      "text/plain": [
       "(4228, 77)"
      ]
     },
     "execution_count": 165,
     "metadata": {},
     "output_type": "execute_result"
    }
   ],
   "source": [
    "processed_X.shape"
   ]
  },
  {
   "cell_type": "code",
   "execution_count": 106,
   "metadata": {},
   "outputs": [],
   "source": [
    "processed_X = processed_X.drop(['car_model'],axis=1)"
   ]
  },
  {
   "cell_type": "code",
   "execution_count": 114,
   "metadata": {},
   "outputs": [],
   "source": [
    "processed_X = processed_X.drop(['marital_status','parent','education','car_color','car_year','claim_freq',\n",
    "                                'coverage_zone','household_income'],axis=1)"
   ]
  },
  {
   "cell_type": "code",
   "execution_count": 116,
   "metadata": {},
   "outputs": [],
   "source": [
    "processed_X = processed_X.drop(['age'],axis=1)"
   ]
  },
  {
   "cell_type": "code",
   "execution_count": 149,
   "metadata": {},
   "outputs": [
    {
     "data": {
      "text/html": [
       "<div>\n",
       "<style scoped>\n",
       "    .dataframe tbody tr th:only-of-type {\n",
       "        vertical-align: middle;\n",
       "    }\n",
       "\n",
       "    .dataframe tbody tr th {\n",
       "        vertical-align: top;\n",
       "    }\n",
       "\n",
       "    .dataframe thead th {\n",
       "        text-align: right;\n",
       "    }\n",
       "</style>\n",
       "<table border=\"1\" class=\"dataframe\">\n",
       "  <thead>\n",
       "    <tr style=\"text-align: right;\">\n",
       "      <th></th>\n",
       "      <th>gender</th>\n",
       "      <th>kids_driving</th>\n",
       "      <th>birth_year</th>\n",
       "      <th>car_make_Acura</th>\n",
       "      <th>car_make_Alfa Romeo</th>\n",
       "      <th>car_make_Aptera</th>\n",
       "      <th>car_make_Aston Martin</th>\n",
       "      <th>car_make_Audi</th>\n",
       "      <th>car_make_Austin</th>\n",
       "      <th>car_make_BMW</th>\n",
       "      <th>...</th>\n",
       "      <th>car_make_Spyker</th>\n",
       "      <th>car_make_Studebaker</th>\n",
       "      <th>car_make_Subaru</th>\n",
       "      <th>car_make_Suzuki</th>\n",
       "      <th>car_make_Tesla</th>\n",
       "      <th>car_make_Toyota</th>\n",
       "      <th>car_make_Volkswagen</th>\n",
       "      <th>car_make_Volvo</th>\n",
       "      <th>car_use_Commercial</th>\n",
       "      <th>car_use_Private</th>\n",
       "    </tr>\n",
       "  </thead>\n",
       "  <tbody>\n",
       "    <tr>\n",
       "      <th>0</th>\n",
       "      <td>1</td>\n",
       "      <td>2</td>\n",
       "      <td>1962</td>\n",
       "      <td>1</td>\n",
       "      <td>0</td>\n",
       "      <td>0</td>\n",
       "      <td>0</td>\n",
       "      <td>0</td>\n",
       "      <td>0</td>\n",
       "      <td>0</td>\n",
       "      <td>...</td>\n",
       "      <td>0</td>\n",
       "      <td>0</td>\n",
       "      <td>0</td>\n",
       "      <td>0</td>\n",
       "      <td>0</td>\n",
       "      <td>0</td>\n",
       "      <td>0</td>\n",
       "      <td>0</td>\n",
       "      <td>0</td>\n",
       "      <td>1</td>\n",
       "    </tr>\n",
       "    <tr>\n",
       "      <th>1</th>\n",
       "      <td>0</td>\n",
       "      <td>0</td>\n",
       "      <td>1988</td>\n",
       "      <td>0</td>\n",
       "      <td>0</td>\n",
       "      <td>0</td>\n",
       "      <td>0</td>\n",
       "      <td>0</td>\n",
       "      <td>0</td>\n",
       "      <td>0</td>\n",
       "      <td>...</td>\n",
       "      <td>0</td>\n",
       "      <td>0</td>\n",
       "      <td>0</td>\n",
       "      <td>0</td>\n",
       "      <td>0</td>\n",
       "      <td>0</td>\n",
       "      <td>0</td>\n",
       "      <td>0</td>\n",
       "      <td>0</td>\n",
       "      <td>1</td>\n",
       "    </tr>\n",
       "  </tbody>\n",
       "</table>\n",
       "<p>2 rows × 77 columns</p>\n",
       "</div>"
      ],
      "text/plain": [
       "   gender  kids_driving  birth_year  car_make_Acura  car_make_Alfa Romeo  \\\n",
       "0       1             2        1962               1                    0   \n",
       "1       0             0        1988               0                    0   \n",
       "\n",
       "   car_make_Aptera  car_make_Aston Martin  car_make_Audi  car_make_Austin  \\\n",
       "0                0                      0              0                0   \n",
       "1                0                      0              0                0   \n",
       "\n",
       "   car_make_BMW  ...  car_make_Spyker  car_make_Studebaker  car_make_Subaru  \\\n",
       "0             0  ...                0                    0                0   \n",
       "1             0  ...                0                    0                0   \n",
       "\n",
       "   car_make_Suzuki  car_make_Tesla  car_make_Toyota  car_make_Volkswagen  \\\n",
       "0                0               0                0                    0   \n",
       "1                0               0                0                    0   \n",
       "\n",
       "   car_make_Volvo  car_use_Commercial  car_use_Private  \n",
       "0               0                   0                1  \n",
       "1               0                   0                1  \n",
       "\n",
       "[2 rows x 77 columns]"
      ]
     },
     "execution_count": 149,
     "metadata": {},
     "output_type": "execute_result"
    }
   ],
   "source": [
    "processed_X.head(2)"
   ]
  },
  {
   "cell_type": "code",
   "execution_count": 150,
   "metadata": {},
   "outputs": [],
   "source": [
    "from sklearn.model_selection import train_test_split\n",
    "from sklearn.feature_selection import SelectKBest,f_regression\n",
    "from sklearn.model_selection import cross_val_score,KFold\n",
    "from sklearn.ensemble import RandomForestRegressor,GradientBoostingRegressor\n",
    "from sklearn.linear_model import LinearRegression\n",
    "from xgboost import XGBRFRegressor,XGBRegressor\n",
    "from sklearn.tree import DecisionTreeRegressor\n",
    "from sklearn.metrics import mean_absolute_error,mean_squared_error"
   ]
  },
  {
   "cell_type": "code",
   "execution_count": 151,
   "metadata": {},
   "outputs": [],
   "source": [
    "X_train,X_test,y_train,y_test = train_test_split(processed_X, y,\n",
    "                                                 test_size=0.1,random_state=42)"
   ]
  },
  {
   "cell_type": "code",
   "execution_count": 152,
   "metadata": {},
   "outputs": [],
   "source": [
    "k_best_features = 50\n",
    "selector = SelectKBest(score_func=f_regression,k = k_best_features)\n",
    "selector.fit(X_train,y_train)\n",
    "X_train_selected = selector.fit_transform(X_train,y_train)\n",
    "X_test_selected = selector.transform(X_test)"
   ]
  },
  {
   "cell_type": "code",
   "execution_count": 153,
   "metadata": {},
   "outputs": [
    {
     "data": {
      "text/plain": [
       "'\\ndef calculate_mae(y_pred,y_test):\\n     return mean_absolute_error(y_pred,y_test)\\n\\nmodels = {\\n     \"LinearRegression\": LinearRegression(),\\n     \"DecisionTree\": DecisionTreeRegressor(random_state=42),\\n     \"RandomForest\": RandomForestRegressor(random_state=42),\\n     \"GradientBoost\": GradientBoostingRegressor(random_state=42),\\n     \"XGBRF\": XGBRFRegressor(),\\n     \"XGR\": XGBRegressor()\\n     }\\nmae_values = []\\n#mse_values = []\\n\\nfor name,model in models.items():\\n    model.fit(X_train_selected,y_train)\\n    preds = model.predict(X_test_selected)\\n    mae_values.append(calculate_mae(y_test,preds))\\n    #mse_values.append(mean_squared_error(y_test,preds))\\n\\nplt.figure(figsize=(12,5))\\n\\nplt.subplot(1,2,1)\\nsns.barplot(x =list(models.keys()),y = mae_values, palette=\\'viridis\\')\\nplt.title(\"MAE of Models\")\\nplt.ylabel(\"MAE\")\\nplt.xticks(rotation=90)\\n\\nplt.tight_layout()\\nplt.show()\\n\\nplt.subplot(1,2,1)\\nsns.barplot(x =list(models.keys()),y = mse_values, palette=\\'viridis\\')\\nplt.title(\"MSE of Models\")\\nplt.ylabel(\"MSE\")\\nplt.xticks(rotation=90)\\n\\nplt.tight_layout()\\nplt.show()\\n'"
      ]
     },
     "execution_count": 153,
     "metadata": {},
     "output_type": "execute_result"
    }
   ],
   "source": [
    "'''\n",
    "def calculate_mae(y_pred,y_test):\n",
    "     return mean_absolute_error(y_pred,y_test)\n",
    "\n",
    "models = {\n",
    "     \"LinearRegression\": LinearRegression(),\n",
    "     \"DecisionTree\": DecisionTreeRegressor(random_state=42),\n",
    "     \"RandomForest\": RandomForestRegressor(random_state=42),\n",
    "     \"GradientBoost\": GradientBoostingRegressor(random_state=42),\n",
    "     \"XGBRF\": XGBRFRegressor(),\n",
    "     \"XGR\": XGBRegressor()\n",
    "     }\n",
    "mae_values = []\n",
    "#mse_values = []\n",
    "\n",
    "for name,model in models.items():\n",
    "    model.fit(X_train_selected,y_train)\n",
    "    preds = model.predict(X_test_selected)\n",
    "    mae_values.append(calculate_mae(y_test,preds))\n",
    "    #mse_values.append(mean_squared_error(y_test,preds))\n",
    "\n",
    "plt.figure(figsize=(12,5))\n",
    "\n",
    "plt.subplot(1,2,1)\n",
    "sns.barplot(x =list(models.keys()),y = mae_values, palette='viridis')\n",
    "plt.title(\"MAE of Models\")\n",
    "plt.ylabel(\"MAE\")\n",
    "plt.xticks(rotation=90)\n",
    "\n",
    "plt.tight_layout()\n",
    "plt.show()\n",
    "\n",
    "plt.subplot(1,2,1)\n",
    "sns.barplot(x =list(models.keys()),y = mse_values, palette='viridis')\n",
    "plt.title(\"MSE of Models\")\n",
    "plt.ylabel(\"MSE\")\n",
    "plt.xticks(rotation=90)\n",
    "\n",
    "plt.tight_layout()\n",
    "plt.show()\n",
    "'''"
   ]
  },
  {
   "cell_type": "code",
   "execution_count": 154,
   "metadata": {},
   "outputs": [
    {
     "name": "stdout",
     "output_type": "stream",
     "text": [
      "MAE of XGBRFRegressor is: 24687.5105\n",
      "MAE of LinearRegression is: 24687.5105\n"
     ]
    }
   ],
   "source": [
    "#gb = GradientBoostingRegressor()\n",
    "xrf = XGBRFRegressor()\n",
    "lr = LinearRegression()\n",
    "'''\n",
    "gb.fit(X_train,y_train)\n",
    "y_pred = gb.predict(X_test)\n",
    "maegb = mean_absolute_error(y_test,y_pred)\n",
    "'''\n",
    "xrf.fit(X_train_selected,y_train)\n",
    "xrf_pred = xrf.predict(X_test_selected)\n",
    "maexrf = mean_absolute_error(y_test,y_pred)\n",
    "\n",
    "lr.fit(X_train_selected,y_train)\n",
    "lr_pred = lr.predict(X_test_selected)\n",
    "maelr = mean_absolute_error(y_test,y_pred)\n",
    "\n",
    "#print(f\"MAE of Gradient Boosting is: {maegb:.4f}\")\n",
    "print(f\"MAE of XGBRFRegressor is: {maexrf:.4f}\")\n",
    "print(f\"MAE of LinearRegression is: {maelr:.4f}\")"
   ]
  },
  {
   "cell_type": "code",
   "execution_count": 158,
   "metadata": {},
   "outputs": [
    {
     "name": "stdout",
     "output_type": "stream",
     "text": [
      "Epoch 1/10\n",
      "761/761 [==============================] - 3s 2ms/step - loss: 34654.3555\n",
      "Epoch 2/10\n",
      "761/761 [==============================] - 1s 2ms/step - loss: 24874.9766\n",
      "Epoch 3/10\n",
      "761/761 [==============================] - 2s 2ms/step - loss: 24863.2871\n",
      "Epoch 4/10\n",
      "761/761 [==============================] - 1s 2ms/step - loss: 24875.2891\n",
      "Epoch 5/10\n",
      "761/761 [==============================] - 1s 2ms/step - loss: 24873.4961\n",
      "Epoch 6/10\n",
      "761/761 [==============================] - 1s 2ms/step - loss: 24854.6523\n",
      "Epoch 7/10\n",
      "761/761 [==============================] - 1s 2ms/step - loss: 24876.4336\n",
      "Epoch 8/10\n",
      "761/761 [==============================] - 1s 2ms/step - loss: 24881.9414\n",
      "Epoch 9/10\n",
      "761/761 [==============================] - 1s 2ms/step - loss: 24876.5996\n",
      "Epoch 10/10\n",
      "761/761 [==============================] - 1s 2ms/step - loss: 24874.9180\n",
      "14/14 [==============================] - 0s 1ms/step\n",
      "MAE: 24692.21253952423\n"
     ]
    }
   ],
   "source": [
    "from keras.models import Sequential\n",
    "from keras.layers import Dense\n",
    "from sklearn.preprocessing import StandardScaler\n",
    "\n",
    "scaler = StandardScaler()\n",
    "X_train = scaler.fit_transform(X_train_selected)\n",
    "X_test = scaler.transform(X_test_selected)\n",
    "\n",
    "def base_model():\n",
    "     model = Sequential()\n",
    "     model.add(Dense(units = 20, input_dim=50, kernel_initializer='uniform', activation='relu'))\n",
    "     model.add(Dense(units =10, kernel_initializer='uniform', activation='relu'))\n",
    "     model.add(Dense(units =1, kernel_initializer='uniform'))\n",
    "     model.compile(loss='mean_absolute_error', optimizer = 'adam')\n",
    "     return model\n",
    "\n",
    "keras_model = base_model()\n",
    "keras_model.fit(X_train_selected,y_train,epochs=10, batch_size=5,verbose=1)\n",
    "y_pred = keras_model.predict(X_test_selected)\n",
    "\n",
    "mae_scores = mean_absolute_error(y_test,y_pred)\n",
    "\n",
    "print(\"MAE:\" ,mae_scores)"
   ]
  },
  {
   "cell_type": "code",
   "execution_count": 159,
   "metadata": {},
   "outputs": [
    {
     "name": "stdout",
     "output_type": "stream",
     "text": [
      "Ensemble Mean Absolute Error: 24820.6873\n"
     ]
    }
   ],
   "source": [
    "ensemble_predictions = (xrf_pred + lr_pred) / 2\n",
    "\n",
    "ensemble_mae = mean_absolute_error(y_test,ensemble_predictions)\n",
    "print(f\"Ensemble Mean Absolute Error: {ensemble_mae:.4f}\")"
   ]
  }
 ],
 "metadata": {
  "kernelspec": {
   "display_name": "Python 3",
   "language": "python",
   "name": "python3"
  },
  "language_info": {
   "codemirror_mode": {
    "name": "ipython",
    "version": 3
   },
   "file_extension": ".py",
   "mimetype": "text/x-python",
   "name": "python",
   "nbconvert_exporter": "python",
   "pygments_lexer": "ipython3",
   "version": "3.11.4"
  },
  "orig_nbformat": 4
 },
 "nbformat": 4,
 "nbformat_minor": 2
}
